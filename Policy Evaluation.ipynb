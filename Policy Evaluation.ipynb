{
 "cells": [
  {
   "cell_type": "code",
   "execution_count": 7,
   "metadata": {},
   "outputs": [],
   "source": [
    "#Psuedocode:\n",
    "#Input : policy pi to be evaluated\n",
    "#Parameter: a small threshold theta > 0 determining accuracy of estimation\n",
    "#Initialize V(state) for all states, arbitrarily except that V(terminal) = 0\n",
    "#Loop:\n",
    "#    delta = 0\n",
    "#    Loop for each state:\n",
    "#        v=V(state)\n",
    "#        V(s) = sum(p(action|state)) * sum(p(new_state,reward| state,action) * (reward + gamma * V(new_state))\n",
    "#        delta = max(delta,| v- V(state)|)\n",
    "#    until delta < theta "
   ]
  },
  {
   "cell_type": "markdown",
   "metadata": {},
   "source": [
    "Exercise refernce: https://github.com/dennybritz/reinforcement-learning/blob/master/DP/Policy%20Evaluation.ipynb"
   ]
  },
  {
   "cell_type": "code",
   "execution_count": 8,
   "metadata": {},
   "outputs": [],
   "source": [
    "import gym\n",
    "import numpy as np\n",
    "import sys\n",
    "if \"../\" not in sys.path:\n",
    "    sys.path.append(\"../\") \n",
    "\n",
    "from lib.envs.gridworld import GridworldEnv\n",
    "\n",
    "env = GridworldEnv()"
   ]
  },
  {
   "cell_type": "code",
   "execution_count": 14,
   "metadata": {},
   "outputs": [],
   "source": [
    "def policy_evaluation(policy, env, gamma=0.9, theta=0.00001):\n",
    "    V = np.zeros(env.nS)\n",
    "    while True:\n",
    "        delta = 0\n",
    "        for state in range(0, env.nS):\n",
    "            v = 0\n",
    "            for action, action_prob in enumerate(policy[state]):\n",
    "                for prob, next_state, reward, done in env.P[state][action]:\n",
    "                    v += action_prob * prob * (reward + gamma *V[next_state])\n",
    "            delta = max(delta, np.abs(v-V[state]))\n",
    "        if delta < theta:\n",
    "            break\n",
    "    return np.array(V)\n"
   ]
  },
  {
   "cell_type": "code",
   "execution_count": null,
   "metadata": {},
   "outputs": [],
   "source": [
    "random_policy = np.ones([env.nS, env.nA])/env.nA\n",
    "v = policy_evaluation(random_policy, env)"
   ]
  },
  {
   "cell_type": "code",
   "execution_count": null,
   "metadata": {},
   "outputs": [],
   "source": [
    "# Test: Make sure the evaluated policy is what we expected\n",
    "expected_v = np.array([0, -14, -20, -22, -14, -18, -20, -20, -20, -20, -18, -14, -22, -20, -14, 0])\n",
    "np.testing.assert_array_almost_equal(v, expected_v, decimal=2)"
   ]
  }
 ],
 "metadata": {
  "kernelspec": {
   "display_name": "Python 3",
   "language": "python",
   "name": "python3"
  },
  "language_info": {
   "codemirror_mode": {
    "name": "ipython",
    "version": 3
   },
   "file_extension": ".py",
   "mimetype": "text/x-python",
   "name": "python",
   "nbconvert_exporter": "python",
   "pygments_lexer": "ipython3",
   "version": "3.7.4"
  }
 },
 "nbformat": 4,
 "nbformat_minor": 2
}
